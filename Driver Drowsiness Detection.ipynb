{
 "cells": [
  {
   "cell_type": "code",
   "execution_count": 12,
   "id": "54460896",
   "metadata": {},
   "outputs": [],
   "source": [
    "import cv2\n",
    "import dlib\n",
    "from scipy.spatial import distance as dist\n",
    "import time\n",
    "from pydub import AudioSegment\n",
    "import os\n",
    "import tempfile\n",
    "import simpleaudio"
   ]
  },
  {
   "cell_type": "code",
   "execution_count": 13,
   "id": "b067eb45",
   "metadata": {},
   "outputs": [],
   "source": [
    "# Specify the path to the FFmpeg executable\n",
    "ffmpeg_path = \"ffmpeg-6.0.tar.xz\"  # Replace with the actual path to FFmpeg executable\n",
    "# Set the environment variable for pydub\n",
    "os.environ[\"PATH\"] += os.pathsep + ffmpeg_path"
   ]
  },
  {
   "cell_type": "code",
   "execution_count": 14,
   "id": "b1bdd7e3",
   "metadata": {},
   "outputs": [],
   "source": [
    "# Load face detector and facial landmark predictor\n",
    "detector = dlib.get_frontal_face_detector()\n",
    "predictor = dlib.shape_predictor('shape_predictor_68_face_landmarks.dat') "
   ]
  },
  {
   "cell_type": "code",
   "execution_count": 15,
   "id": "052da0ef",
   "metadata": {},
   "outputs": [],
   "source": [
    "# Function to calculate eye aspect ratio (EAR)\n",
    "def eye_aspect_ratio(eye):\n",
    "    A = dist.euclidean(eye[1], eye[5])\n",
    "    B = dist.euclidean(eye[2], eye[4])\n",
    "    C = dist.euclidean(eye[0], eye[3])\n",
    "    ear = (A + B) / (2.0 * C)\n",
    "    return ear"
   ]
  },
  {
   "cell_type": "code",
   "execution_count": 16,
   "id": "12ebaf46",
   "metadata": {},
   "outputs": [],
   "source": [
    "# Set the threshold for drowsiness detection\n",
    "EAR_THRESHOLD = 0.25  # Adjust this based on your observations\n",
    "TIME_THRESHOLD = 1.5  # Time threshold for closed eyes (in seconds)"
   ]
  },
  {
   "cell_type": "code",
   "execution_count": 17,
   "id": "4f4b40e8",
   "metadata": {},
   "outputs": [],
   "source": [
    "# Initialize timer variables\n",
    "start_time = None\n",
    "drowsy_timer = 0"
   ]
  },
  {
   "cell_type": "code",
   "execution_count": 18,
   "id": "83e32821",
   "metadata": {},
   "outputs": [],
   "source": [
    "# Load the alarm sound\n",
    "alarm_sound = AudioSegment.from_wav(\"alarm.wav\") "
   ]
  },
  {
   "cell_type": "code",
   "execution_count": 19,
   "id": "24dc515b",
   "metadata": {},
   "outputs": [],
   "source": [
    "# Specify a temporary directory where you have write access\n",
    "temp_dir = \"C:\\\\Users\\\\chait\\\\Downloads\""
   ]
  },
  {
   "cell_type": "code",
   "execution_count": 20,
   "id": "b6ea3efc",
   "metadata": {},
   "outputs": [],
   "source": [
    "# Start capturing video from the webcam\n",
    "cap = cv2.VideoCapture(0)\n",
    "\n",
    "while True:\n",
    "    ret, frame = cap.read()\n",
    "    if not ret:\n",
    "        break\n",
    "    \n",
    "    gray = cv2.cvtColor(frame, cv2.COLOR_BGR2GRAY)\n",
    "    faces = detector(gray)\n",
    "    \n",
    "    for face in faces:\n",
    "        landmarks = predictor(gray, face)\n",
    "        left_eye = []\n",
    "        right_eye = []\n",
    "        \n",
    "        for i in range(36, 42):  # Indices for left eye landmarks\n",
    "            left_eye.append((landmarks.part(i).x, landmarks.part(i).y))\n",
    "        for i in range(42, 48):  # Indices for right eye landmarks\n",
    "            right_eye.append((landmarks.part(i).x, landmarks.part(i).y))\n",
    "        \n",
    "        left_ear = eye_aspect_ratio(left_eye)\n",
    "        right_ear = eye_aspect_ratio(right_eye)\n",
    "        \n",
    "        avg_ear = (left_ear + right_ear) / 2.0\n",
    "        \n",
    "        if avg_ear < EAR_THRESHOLD:\n",
    "            if start_time is None:\n",
    "                start_time = time.time()\n",
    "            drowsy_timer = time.time() - start_time\n",
    "            if drowsy_timer >= TIME_THRESHOLD:\n",
    "                cv2.putText(frame, \"Drowsy\", (10, 30),\n",
    "                            cv2.FONT_HERSHEY_SIMPLEX, 0.7, (0, 0, 255), 2)\n",
    "                temp_wav_filename = \"alarm.wav\"\n",
    "                temp_wav_path = os.path.join(temp_dir, temp_wav_filename)\n",
    "                alarm_sound.export(temp_wav_path, format=\"wav\")\n",
    "                wave_obj = simpleaudio.WaveObject.from_wave_file(temp_wav_path)\n",
    "                play_obj = wave_obj.play()\n",
    "                play_obj.wait_done()\n",
    "        else:\n",
    "            start_time = None\n",
    "        \n",
    "        # Draw landmarks and eyes on the frame (for visualization)\n",
    "        for point in left_eye:\n",
    "            cv2.circle(frame, point, 2, (0, 255, 0), -1)\n",
    "        for point in right_eye:\n",
    "            cv2.circle(frame, point, 2, (0, 255, 0), -1)\n",
    "    \n",
    "    cv2.imshow(\"Drowsiness Detection\", frame)\n",
    "    \n",
    "    if cv2.waitKey(1) & 0xFF == 27:  \n",
    "        break\n",
    "\n",
    "cap.release()\n",
    "cv2.destroyAllWindows()"
   ]
  },
  {
   "cell_type": "code",
   "execution_count": null,
   "id": "24df536f",
   "metadata": {},
   "outputs": [],
   "source": []
  }
 ],
 "metadata": {
  "kernelspec": {
   "display_name": "Python 3 (ipykernel)",
   "language": "python",
   "name": "python3"
  },
  "language_info": {
   "codemirror_mode": {
    "name": "ipython",
    "version": 3
   },
   "file_extension": ".py",
   "mimetype": "text/x-python",
   "name": "python",
   "nbconvert_exporter": "python",
   "pygments_lexer": "ipython3",
   "version": "3.11.3"
  }
 },
 "nbformat": 4,
 "nbformat_minor": 5
}
